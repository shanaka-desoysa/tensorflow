{
 "cells": [
  {
   "cell_type": "markdown",
   "metadata": {},
   "source": [
    "# E-63 Big Data Analytics - Assignment 08 - TensorFlow"
   ]
  },
  {
   "cell_type": "markdown",
   "metadata": {},
   "source": [
    "## Shanaka De Soysa"
   ]
  },
  {
   "cell_type": "markdown",
   "metadata": {},
   "source": [
    "### Problem 1\n",
    "Install newest release of TensorFlow 1.0.1 on the operating system of your choice. Use installation instructions on  https://www.tensorflow.org  site and instructions in the attached files:  install-mac-docket.md, install-mac-native.md, install-ubuntu.md and install-win-native.md.  Unless you know what you are doing do not install TensorFlow for GPU. Install TensorFlow for CPU. Use attach Jupyter notebook:  0_test_install.ipynb  to demonstrate that TensorFlow is properly installed. (10%)"
   ]
  },
  {
   "cell_type": "markdown",
   "metadata": {},
   "source": [
    "#### Create a conda environment called tensorflow:\n",
    "![conda env](img/create-tensorflow-env1.png \"Create conda env\")"
   ]
  },
  {
   "cell_type": "markdown",
   "metadata": {},
   "source": [
    "#### Install tensorflow:\n",
    "![](img/install-tensorflow1.png \"Install tensorflow\")"
   ]
  },
  {
   "cell_type": "markdown",
   "metadata": {
    "collapsed": true
   },
   "source": [
    "#### Use attach Jupyter notebook: 0_test_install.ipynb to demonstrate that TensorFlow is properly installed. "
   ]
  },
  {
   "cell_type": "markdown",
   "metadata": {},
   "source": [
    "This snippet of Python creates a simple graph."
   ]
  },
  {
   "cell_type": "code",
   "execution_count": 1,
   "metadata": {
    "collapsed": false
   },
   "outputs": [
    {
     "name": "stdout",
     "output_type": "stream",
     "text": [
      "b'It works!'\n"
     ]
    }
   ],
   "source": [
    "import tensorflow as tf\n",
    "hello = tf.constant('It works!')\n",
    "sess = tf.Session()\n",
    "print(sess.run(hello))"
   ]
  },
  {
   "cell_type": "markdown",
   "metadata": {
    "collapsed": true
   },
   "source": [
    "Check that you have a recent version of TensorFlow installed, >= 0.12.0rc0"
   ]
  },
  {
   "cell_type": "code",
   "execution_count": 2,
   "metadata": {
    "collapsed": false
   },
   "outputs": [
    {
     "name": "stdout",
     "output_type": "stream",
     "text": [
      "You have version 1.0.1\n"
     ]
    }
   ],
   "source": [
    "print(\"You have version %s\" % tf.__version__)"
   ]
  },
  {
   "cell_type": "markdown",
   "metadata": {},
   "source": [
    "We'll also use matplotlib, so let's test if that's working."
   ]
  },
  {
   "cell_type": "code",
   "execution_count": 3,
   "metadata": {
    "collapsed": false
   },
   "outputs": [
    {
     "data": {
      "text/plain": [
       "[<matplotlib.lines.Line2D at 0x10fec3c88>]"
      ]
     },
     "execution_count": 3,
     "metadata": {},
     "output_type": "execute_result"
    },
    {
     "data": {
      "image/png": "[encoded data removed]",
      "text/plain": [
       "<matplotlib.figure.Figure at 0x10fdaa6a0>"
      ]
     },
     "metadata": {},
     "output_type": "display_data"
    }
   ],
   "source": [
    "%matplotlib inline\n",
    "import pylab\n",
    "import numpy as np\n",
    "\n",
    "# create some data using numpy. y = x * 0.1 + 0.3 + noise\n",
    "x_train = np.random.rand(100).astype(np.float32)\n",
    "noise = np.random.normal(scale=0.01, size=len(x_train))\n",
    "y_train = x_train * 0.1 + 0.3 + noise\n",
    "\n",
    "# plot it\n",
    "pylab.plot(x_train, y_train, '.')"
   ]
  },
  {
   "cell_type": "markdown",
   "metadata": {},
   "source": [
    "### Problem 2.  \n",
    "Construct a simple neural network (a network of logistic units) which will implement (X1 XOR X2) AND X3 function. Choose weights ( θi -s) of all dendritic inputs and bias inputs. Demonstrate that your network works by presenting the truth table. Present your network by a simple graph. You can produce the graph in any way convenient including pan and paper . (15%)"
   ]
  },
  {
   "cell_type": "markdown",
   "metadata": {},
   "source": [
    "![](img\\p2.jpg)"
   ]
  },
  {
   "cell_type": "code",
   "execution_count": null,
   "metadata": {
    "collapsed": true
   },
   "outputs": [],
   "source": []
  },
  {
   "cell_type": "markdown",
   "metadata": {},
   "source": [
    "### Problem 3.  \n",
    "Calculate the first 30 Fibonacci numbers using TensorFlow API and recurrence relationship:\n",
    "Fn = Fn−1 + Fn−2 ,\n",
    "with seed values: F0 = 0, F1 = 1.\n",
    "To help you out, we are attaching Jupyter notebook entitled:  1_warm_up.ipynb  which contains Fibonacci calculation based on the products of 2x2 matrixes of the form\n",
    "[0 1 1 1 ] . Export TensorFlow graph crated in this problem to a directory of your choice. Read and display that graph using TensorBoard tool. When starting the TensorBoard it appears that you need to specify the full directory path to the log directory, like:\n",
    "C:\\> tensorboard –-logdir=E:/code/output\n",
    "(25%)\n"
   ]
  },
  {
   "cell_type": "code",
   "execution_count": null,
   "metadata": {
    "collapsed": true
   },
   "outputs": [],
   "source": []
  },
  {
   "cell_type": "code",
   "execution_count": 11,
   "metadata": {
    "collapsed": false
   },
   "outputs": [
    {
     "name": "stdout",
     "output_type": "stream",
     "text": [
      "[[ 1.]\n",
      " [ 1.]]\n",
      "[[ 1.]\n",
      " [ 2.]]\n",
      "[[ 2.]\n",
      " [ 3.]]\n",
      "[[ 3.]\n",
      " [ 5.]]\n",
      "[[ 5.]\n",
      " [ 8.]]\n",
      "[[  8.]\n",
      " [ 13.]]\n",
      "[[ 13.]\n",
      " [ 21.]]\n",
      "[[ 21.]\n",
      " [ 34.]]\n",
      "[[ 34.]\n",
      " [ 55.]]\n",
      "[[ 55.]\n",
      " [ 89.]]\n",
      "[[  89.]\n",
      " [ 144.]]\n",
      "[[ 144.]\n",
      " [ 233.]]\n",
      "[[ 233.]\n",
      " [ 377.]]\n",
      "[[ 377.]\n",
      " [ 610.]]\n",
      "[[ 610.]\n",
      " [ 987.]]\n",
      "[[  987.]\n",
      " [ 1597.]]\n",
      "[[ 1597.]\n",
      " [ 2584.]]\n",
      "[[ 2584.]\n",
      " [ 4181.]]\n",
      "[[ 4181.]\n",
      " [ 6765.]]\n",
      "[[  6765.]\n",
      " [ 10946.]]\n",
      "[[ 10946.]\n",
      " [ 17711.]]\n",
      "[[ 17711.]\n",
      " [ 28657.]]\n",
      "[[ 28657.]\n",
      " [ 46368.]]\n",
      "[[ 46368.]\n",
      " [ 75025.]]\n",
      "[[  75025.]\n",
      " [ 121393.]]\n",
      "[[ 121393.]\n",
      " [ 196418.]]\n",
      "[[ 196418.]\n",
      " [ 317811.]]\n",
      "[[ 317811.]\n",
      " [ 514229.]]\n",
      "[[ 514229.]\n",
      " [ 832040.]]\n",
      "[[  832040.]\n",
      " [ 1346269.]]\n"
     ]
    }
   ],
   "source": [
    "import tensorflow as tf\n",
    "tf.logging.set_verbosity(tf.logging.ERROR)\n",
    "\n",
    "\n",
    "with tf.Graph().as_default() as g:\n",
    "\n",
    "    # Add code that will calculate and output the Fibonacci sequence\n",
    "    # using TF. You will need to make use of tf.matmul() and\n",
    "    # tf.assign() to perform the multiplications and assign the result\n",
    "    # back to the variable fib_seq.\n",
    "\n",
    "    fib_matrix = tf.constant([[0.0, 1.0],\n",
    "                              [1.0, 1.0]])\n",
    "\n",
    "    ### SOLUTION START ###\n",
    "    # Put your solution code here.\n",
    "\n",
    "    # Change this line to initialize fib_seq to a 2x1 TensorFlow\n",
    "    # tensor *Variable* with the initial values of 0.0 and 1.0. Hint:\n",
    "    # You'll need to make sure you specify a 2D tensor of shape 2x1,\n",
    "    # not a 1D tensor. See fib_matrix above (a 2x2 2D tensor) to guide\n",
    "    # you.\n",
    "    fib_sequence = tf.Variable([[0.0], [1.0]])\n",
    "    \n",
    "    # Change this line to multiply fib_matrix and fib_sequence using tf.matmul()\n",
    "    next_fib = tf.matmul(fib_matrix, fib_sequence)\n",
    "    \n",
    "    # And assign the result back to fig_sequence using tf.assign()\n",
    "    assign_op = tf.assign(fib_sequence, next_fib)\n",
    "    \n",
    "    ### SOLUTION END ###\n",
    "    \n",
    "    init = tf.global_variables_initializer()\n",
    "    with tf.Session() as sess:\n",
    "        ##sess.run(init)\n",
    "        writer = tf.summary.FileWriter(\"logs/fibonacci\", sess.graph)\n",
    "        sess.run(init)\n",
    "        for step in range(30):\n",
    "            sess.run(assign_op)\n",
    "            print(sess.run(fib_sequence))\n",
    "            \n",
    "   # file_writer = tf.summary.FileWriter(\"output2\", sess.graph)"
   ]
  },
  {
   "cell_type": "markdown",
   "metadata": {},
   "source": [
    "Read and display that graph using TensorBoard tool. When starting the TensorBoard it appears that you need to specify the full directory path to the log directory"
   ]
  },
  {
   "cell_type": "markdown",
   "metadata": {},
   "source": [
    "![](img\\graph-run.png)"
   ]
  },
  {
   "cell_type": "markdown",
   "metadata": {},
   "source": [
    "### Problem 4.  \n",
    "Please examine attached Jupyter notebook  2_linear_regression.ipynb . As you are running its cells, the notebook will complain about non-existent API calls. This notebook was written in an earlier version of TensorFlow API and some calls changed their names. Fix all code by replacing older calls with calls in TF 1.0.1. Uncomment all optional (print) lines. Provide a copy of this notebook with all intermediate results and the image of TensorFlow graph as captured by the TensorBoard.\n",
    "(20%)"
   ]
  },
  {
   "cell_type": "code",
   "execution_count": 65,
   "metadata": {
    "collapsed": true
   },
   "outputs": [],
   "source": [
    "# Import tensorflow and other libraries.\n",
    "from __future__ import absolute_import\n",
    "from __future__ import division\n",
    "from __future__ import print_function\n",
    "\n",
    "import tensorflow as tf\n",
    "\n",
    "import numpy as np\n",
    "import math\n",
    "\n",
    "%matplotlib inline\n",
    "import pylab"
   ]
  },
  {
   "cell_type": "code",
   "execution_count": 66,
   "metadata": {
    "collapsed": true
   },
   "outputs": [],
   "source": [
    "sess = None\n",
    "def resetSession():\n",
    "    tf.reset_default_graph()\n",
    "    global sess\n",
    "    if sess is not None: sess.close()\n",
    "    sess = tf.InteractiveSession()"
   ]
  },
  {
   "cell_type": "code",
   "execution_count": 167,
   "metadata": {
    "collapsed": false
   },
   "outputs": [
    {
     "data": {
      "text/plain": [
       "[<matplotlib.lines.Line2D at 0x11959d860>]"
      ]
     },
     "execution_count": 167,
     "metadata": {},
     "output_type": "execute_result"
    },
    {
     "data": {
      "image/png": "[encoded data removed]",
      "text/plain": [
       "<matplotlib.figure.Figure at 0x118e79b00>"
      ]
     },
     "metadata": {},
     "output_type": "display_data"
    }
   ],
   "source": [
    "resetSession()\n",
    "\n",
    "# Create input data using NumPy. y = x * 0.1 + 0.3 + noise\n",
    "x_train = np.random.rand(100).astype(np.float32)\n",
    "noise = np.random.normal(scale=0.01, size=len(x_train))\n",
    "y_train = x_train * 0.1 + 0.3 + noise\n",
    "\n",
    "# Uncomment the following line to plot our input data.\n",
    "pylab.plot(x_train, y_train, '.')"
   ]
  },
  {
   "cell_type": "code",
   "execution_count": 68,
   "metadata": {
    "collapsed": true
   },
   "outputs": [],
   "source": [
    "# Create some fake evaluation data\n",
    "x_eval = np.random.rand(len(x_train)).astype(np.float32)\n",
    "noise = np.random.normal(scale=0.01, size=len(x_train))\n",
    "y_eval = x_eval * 0.1 + 0.3 + noise"
   ]
  },
  {
   "cell_type": "code",
   "execution_count": 69,
   "metadata": {
    "collapsed": false
   },
   "outputs": [
    {
     "name": "stdout",
     "output_type": "stream",
     "text": [
      "Tensor(\"weights/read:0\", shape=(1,), dtype=float32)\n",
      "Tensor(\"bias/read:0\", shape=(1,), dtype=float32)\n",
      "Tensor(\"x:0\", shape=(?,), dtype=float32)\n"
     ]
    }
   ],
   "source": [
    "# Build inference graph.\n",
    "# Create Variables W and b that compute y_data = W * x_data + b\n",
    "W = tf.Variable(tf.random_normal([1]), name='weights')\n",
    "b = tf.Variable(tf.random_normal([1]), name='bias')\n",
    "\n",
    "# Uncomment the following lines to see what W and b are.\n",
    "print(W)\n",
    "print(b)\n",
    "\n",
    "# Create a placeholder we'll use later to feed x's into the graph for training and eval.\n",
    "# shape=[None] means we can put in any number of examples. \n",
    "# This is used for minibatch training, and to evaluate a lot of examples at once.\n",
    "x = tf.placeholder(shape=[None], dtype=tf.float32, name='x')\n",
    "\n",
    "# Uncomment this line to see what x is\n",
    "print(x)\n",
    "\n",
    "# This is the same as tf.add(tf.mul(W, x), b), but looks nicer\n",
    "y = W * x + b"
   ]
  },
  {
   "cell_type": "markdown",
   "metadata": {},
   "source": [
    "At this point, we have:\n",
    "* x_train: x input features\n",
    "* y_train: observed y for each x that we will train on\n",
    "* x_eval, y_eval: Same as above, but a smaller set that we will not train on, and instead evaluate our effectiveness. "
   ]
  },
  {
   "cell_type": "code",
   "execution_count": 70,
   "metadata": {
    "collapsed": false
   },
   "outputs": [],
   "source": [
    "# Write the graph so we can look at it in TensorBoard\n",
    "# https://www.tensorflow.org/versions/r0.12/how_tos/summaries_and_tensorboard/index.html\n",
    "sw = tf.summary.FileWriter('logs/regression', graph=tf.get_default_graph())"
   ]
  },
  {
   "cell_type": "markdown",
   "metadata": {},
   "source": [
    "![](img\\linear-graph-run.png)"
   ]
  },
  {
   "cell_type": "code",
   "execution_count": 71,
   "metadata": {
    "collapsed": false
   },
   "outputs": [
    {
     "name": "stdout",
     "output_type": "stream",
     "text": [
      "Tensor(\"y_label:0\", shape=(?,), dtype=float32)\n"
     ]
    }
   ],
   "source": [
    "# Create a placeholder we'll use later to feed the correct y value into the graph\n",
    "y_label = tf.placeholder(shape=[None], dtype=tf.float32, name='y_label')\n",
    "print (y_label)"
   ]
  },
  {
   "cell_type": "code",
   "execution_count": 72,
   "metadata": {
    "collapsed": false
   },
   "outputs": [
    {
     "name": "stdout",
     "output_type": "stream",
     "text": [
      "loss: Tensor(\"Mean:0\", shape=(), dtype=float32)\n",
      "optimizer: <tensorflow.python.training.gradient_descent.GradientDescentOptimizer object at 0x110d79fd0>\n",
      "train: name: \"GradientDescent\"\n",
      "op: \"NoOp\"\n",
      "input: \"^GradientDescent/update_weights/ApplyGradientDescent\"\n",
      "input: \"^GradientDescent/update_bias/ApplyGradientDescent\"\n",
      "\n"
     ]
    }
   ],
   "source": [
    "# Build training graph.\n",
    "loss = tf.reduce_mean(tf.square(y - y_label))  # Create an operation that calculates loss.\n",
    "optimizer = tf.train.GradientDescentOptimizer(0.5)  # Create an optimizer.\n",
    "train = optimizer.minimize(loss)  # Create an operation that minimizes loss.\n",
    "\n",
    "# Uncomment the following 3 lines to see what 'loss', 'optimizer' and 'train' are.\n",
    "print(\"loss:\", loss)\n",
    "print(\"optimizer:\", optimizer)\n",
    "print(\"train:\", train)"
   ]
  },
  {
   "cell_type": "code",
   "execution_count": 73,
   "metadata": {
    "collapsed": false
   },
   "outputs": [
    {
     "name": "stdout",
     "output_type": "stream",
     "text": [
      "name: \"init\"\n",
      "op: \"NoOp\"\n",
      "input: \"^weights/Assign\"\n",
      "input: \"^bias/Assign\"\n",
      "\n"
     ]
    }
   ],
   "source": [
    "# Create an operation to initialize all the variables.\n",
    "init = tf.initialize_all_variables()\n",
    "print(init)\n",
    "sess.run(init)"
   ]
  },
  {
   "cell_type": "code",
   "execution_count": 74,
   "metadata": {
    "collapsed": false
   },
   "outputs": [
    {
     "name": "stdout",
     "output_type": "stream",
     "text": [
      "[array([-0.90465742], dtype=float32), array([ 1.08910704], dtype=float32)]\n"
     ]
    }
   ],
   "source": [
    "# Uncomment the following line to see the initial W and b values.\n",
    "print(sess.run([W, b]))"
   ]
  },
  {
   "cell_type": "code",
   "execution_count": 75,
   "metadata": {
    "collapsed": false
   },
   "outputs": [
    {
     "data": {
      "text/plain": [
       "array([-1.62486529], dtype=float32)"
      ]
     },
     "execution_count": 75,
     "metadata": {},
     "output_type": "execute_result"
    }
   ],
   "source": [
    "# Uncomment these lines to test that we can compute a y from an x (without having trained anything). \n",
    "# x must be a vector, hence [3] not just 3.\n",
    "x_in = [3]\n",
    "sess.run(y, feed_dict={x: x_in})"
   ]
  },
  {
   "cell_type": "code",
   "execution_count": 76,
   "metadata": {
    "collapsed": false
   },
   "outputs": [
    {
     "data": {
      "text/plain": [
       "0.171498"
      ]
     },
     "execution_count": 76,
     "metadata": {},
     "output_type": "execute_result"
    }
   ],
   "source": [
    "def eval_loss():\n",
    "    return sess.run(loss, feed_dict={x: x_eval, y_label: y_eval})\n",
    "eval_loss()"
   ]
  },
  {
   "cell_type": "code",
   "execution_count": 77,
   "metadata": {
    "collapsed": false
   },
   "outputs": [],
   "source": [
    "# Track of how loss changes, so we can visualize it in TensorBoard\n",
    "tf.summary.scalar('loss', loss)\n",
    "summary_op = tf.summary.merge_all(key='summaries')"
   ]
  },
  {
   "cell_type": "code",
   "execution_count": 78,
   "metadata": {
    "collapsed": false
   },
   "outputs": [
    {
     "name": "stdout",
     "output_type": "stream",
     "text": [
      "0 [array([-0.98349649], dtype=float32), array([ 0.74135017], dtype=float32)]\n",
      "20 [array([-0.20134732], dtype=float32), array([ 0.44152793], dtype=float32)]\n",
      "40 [array([ 0.01452559], dtype=float32), array([ 0.34074017], dtype=float32)]\n",
      "60 [array([ 0.07607785], dtype=float32), array([ 0.31200239], dtype=float32)]\n",
      "80 [array([ 0.09362838], dtype=float32), array([ 0.3038083], dtype=float32)]\n",
      "100 [array([ 0.09863263], dtype=float32), array([ 0.30147192], dtype=float32)]\n",
      "120 [array([ 0.10005946], dtype=float32), array([ 0.30080575], dtype=float32)]\n",
      "140 [array([ 0.10046633], dtype=float32), array([ 0.30061579], dtype=float32)]\n",
      "160 [array([ 0.1005823], dtype=float32), array([ 0.30056164], dtype=float32)]\n",
      "180 [array([ 0.10061537], dtype=float32), array([ 0.3005462], dtype=float32)]\n",
      "200 [array([ 0.10062481], dtype=float32), array([ 0.30054179], dtype=float32)]\n"
     ]
    }
   ],
   "source": [
    "# Perform training.\n",
    "for step in range(201):\n",
    "    # Run the training op; feed the training data into the graph\n",
    "    summary_str, _ = sess.run([summary_op, train], feed_dict={x: x_train, y_label: y_train})\n",
    "    sw.add_summary(summary_str, step)\n",
    "    # Uncomment the following two lines to watch training happen real time.\n",
    "    if step % 20 == 0:\n",
    "        print(step, sess.run([W, b]))"
   ]
  },
  {
   "cell_type": "markdown",
   "metadata": {},
   "source": [
    "Track of how loss changes, so we can visualize it in TensorBoard:\n",
    "\n",
    "![](img/linear-training.png)"
   ]
  },
  {
   "cell_type": "code",
   "execution_count": 79,
   "metadata": {
    "collapsed": false
   },
   "outputs": [
    {
     "data": {
      "text/plain": [
       "<matplotlib.legend.Legend at 0x10588c048>"
      ]
     },
     "execution_count": 79,
     "metadata": {},
     "output_type": "execute_result"
    },
    {
     "data": {
      "image/png": "[encoded data removed]",
      "text/plain": [
       "<matplotlib.figure.Figure at 0x10587bb70>"
      ]
     },
     "metadata": {},
     "output_type": "display_data"
    }
   ],
   "source": [
    "# Uncomment the following lines to plot the predicted values\n",
    "pylab.plot(x_train, y_train, '.', label=\"target\")\n",
    "pylab.plot(x_train, sess.run(y, feed_dict={x: x_train, y_label: y_train}), label=\"predicted\")\n",
    "pylab.legend()"
   ]
  },
  {
   "cell_type": "code",
   "execution_count": 80,
   "metadata": {
    "collapsed": false
   },
   "outputs": [
    {
     "data": {
      "text/plain": [
       "0.00011249406"
      ]
     },
     "execution_count": 80,
     "metadata": {},
     "output_type": "execute_result"
    }
   ],
   "source": [
    "# Check accuracy on eval data after training\n",
    "eval_loss()"
   ]
  },
  {
   "cell_type": "code",
   "execution_count": 81,
   "metadata": {
    "collapsed": true
   },
   "outputs": [],
   "source": [
    "def predict(x_in): return sess.run(y, feed_dict={x: [x_in]})"
   ]
  },
  {
   "cell_type": "code",
   "execution_count": 82,
   "metadata": {
    "collapsed": false
   },
   "outputs": [
    {
     "data": {
      "text/plain": [
       "'logs/regression/my_checkpoint.ckpt'"
      ]
     },
     "execution_count": 82,
     "metadata": {},
     "output_type": "execute_result"
    }
   ],
   "source": [
    "# Save the model\n",
    "saver = tf.train.Saver()\n",
    "saver.save(sess, 'logs/regression/my_checkpoint.ckpt')"
   ]
  },
  {
   "cell_type": "code",
   "execution_count": 83,
   "metadata": {
    "collapsed": false
   },
   "outputs": [
    {
     "data": {
      "text/plain": [
       "array([ 0.60241622], dtype=float32)"
      ]
     },
     "execution_count": 83,
     "metadata": {},
     "output_type": "execute_result"
    }
   ],
   "source": [
    "# Current prediction\n",
    "predict(3)"
   ]
  },
  {
   "cell_type": "code",
   "execution_count": 84,
   "metadata": {
    "collapsed": true
   },
   "outputs": [],
   "source": [
    "# Reset the model by running the init op again\n",
    "sess.run(init) "
   ]
  },
  {
   "cell_type": "code",
   "execution_count": 85,
   "metadata": {
    "collapsed": false
   },
   "outputs": [
    {
     "data": {
      "text/plain": [
       "array([ 0.77394277], dtype=float32)"
      ]
     },
     "execution_count": 85,
     "metadata": {},
     "output_type": "execute_result"
    }
   ],
   "source": [
    "# Prediction after variables reinitialized\n",
    "predict(3)"
   ]
  },
  {
   "cell_type": "code",
   "execution_count": 86,
   "metadata": {
    "collapsed": false
   },
   "outputs": [],
   "source": [
    "saver.restore(sess, 'logs/regression/my_checkpoint.ckpt')"
   ]
  },
  {
   "cell_type": "code",
   "execution_count": 87,
   "metadata": {
    "collapsed": false
   },
   "outputs": [
    {
     "data": {
      "text/plain": [
       "array([ 0.60241622], dtype=float32)"
      ]
     },
     "execution_count": 87,
     "metadata": {},
     "output_type": "execute_result"
    }
   ],
   "source": [
    "# Predictions after variables restored\n",
    "predict(3)"
   ]
  },
  {
   "cell_type": "code",
   "execution_count": null,
   "metadata": {
    "collapsed": true
   },
   "outputs": [],
   "source": []
  },
  {
   "cell_type": "code",
   "execution_count": null,
   "metadata": {
    "collapsed": true
   },
   "outputs": [],
   "source": []
  },
  {
   "cell_type": "markdown",
   "metadata": {},
   "source": [
    "### Problem 5.  \n",
    "Please considered attached Excel file called  Reduced_Car_Data.xlsx. This is the data set we used previously except that we have now removed several descriptive variables and left only:  Displacement, Horsepower and Weight . Please build a regression model using TensorFlow that will predict the gasoline consumption ( MPG - Miles Per Gallon ) of cars based on three remaining variables. Please extract a percentage of data to serve as a training set and a percentage to serve as the test set.   Please report on the accuracy of your model.\n",
    "(30%)"
   ]
  },
  {
   "cell_type": "code",
   "execution_count": 151,
   "metadata": {
    "collapsed": true
   },
   "outputs": [],
   "source": [
    "# Import tensorflow and other libraries.\n",
    "from __future__ import absolute_import\n",
    "from __future__ import division\n",
    "from __future__ import print_function\n",
    "\n",
    "import tensorflow as tf\n",
    "import matplotlib.pyplot as plt\n",
    "import numpy as np\n",
    "import math\n",
    "\n",
    "%matplotlib inline\n",
    "import pylab\n",
    "import pandas as pd"
   ]
  },
  {
   "cell_type": "code",
   "execution_count": 137,
   "metadata": {
    "collapsed": false
   },
   "outputs": [
    {
     "data": {
      "text/html": [
       "<div>\n",
       "<table border=\"1\" class=\"dataframe\">\n",
       "  <thead>\n",
       "    <tr style=\"text-align: right;\">\n",
       "      <th></th>\n",
       "      <th>ID</th>\n",
       "      <th>Displacement</th>\n",
       "      <th>Horsepower</th>\n",
       "      <th>Weight</th>\n",
       "      <th>MPG</th>\n",
       "    </tr>\n",
       "  </thead>\n",
       "  <tbody>\n",
       "    <tr>\n",
       "      <th>0</th>\n",
       "      <td>1</td>\n",
       "      <td>307.0</td>\n",
       "      <td>130.0</td>\n",
       "      <td>3504.0</td>\n",
       "      <td>18.0</td>\n",
       "    </tr>\n",
       "    <tr>\n",
       "      <th>1</th>\n",
       "      <td>2</td>\n",
       "      <td>350.0</td>\n",
       "      <td>165.0</td>\n",
       "      <td>3693.0</td>\n",
       "      <td>15.0</td>\n",
       "    </tr>\n",
       "    <tr>\n",
       "      <th>2</th>\n",
       "      <td>3</td>\n",
       "      <td>318.0</td>\n",
       "      <td>150.0</td>\n",
       "      <td>3436.0</td>\n",
       "      <td>18.0</td>\n",
       "    </tr>\n",
       "    <tr>\n",
       "      <th>3</th>\n",
       "      <td>4</td>\n",
       "      <td>304.0</td>\n",
       "      <td>150.0</td>\n",
       "      <td>3433.0</td>\n",
       "      <td>16.0</td>\n",
       "    </tr>\n",
       "    <tr>\n",
       "      <th>4</th>\n",
       "      <td>5</td>\n",
       "      <td>302.0</td>\n",
       "      <td>140.0</td>\n",
       "      <td>3449.0</td>\n",
       "      <td>17.0</td>\n",
       "    </tr>\n",
       "  </tbody>\n",
       "</table>\n",
       "</div>"
      ],
      "text/plain": [
       "   ID  Displacement  Horsepower  Weight   MPG\n",
       "0   1         307.0       130.0  3504.0  18.0\n",
       "1   2         350.0       165.0  3693.0  15.0\n",
       "2   3         318.0       150.0  3436.0  18.0\n",
       "3   4         304.0       150.0  3433.0  16.0\n",
       "4   5         302.0       140.0  3449.0  17.0"
      ]
     },
     "execution_count": 137,
     "metadata": {},
     "output_type": "execute_result"
    }
   ],
   "source": [
    "resetSession()\n",
    "\n",
    "data_file = \"/data/Reduced_Car_Data.csv\"\n",
    "COLUMNS = [\"ID\", \"Displacement\", \"Horsepower\", \"Weight\", \"MPG\"]\n",
    "# Read the CSV\n",
    "data = pd.read_csv(data_file, names=COLUMNS, skipinitialspace=True, skiprows=1, \n",
    "                   dtype={\"Displacement\":np.float32, \"Horsepower\":np.float32, \"Weight\":np.float32, \"MPG\":np.float32})\n",
    "#print(data)\n",
    "data.head()"
   ]
  },
  {
   "cell_type": "markdown",
   "metadata": {},
   "source": [
    "Please extract a percentage of data to serve as a training set and a percentage to serve as the test set."
   ]
  },
  {
   "cell_type": "code",
   "execution_count": 138,
   "metadata": {
    "collapsed": false
   },
   "outputs": [
    {
     "name": "stdout",
     "output_type": "stream",
     "text": [
      "80\n",
      "20\n"
     ]
    }
   ],
   "source": [
    "# \n",
    "train=data.sample(frac=0.8, random_state=200)\n",
    "test=data.drop(train.index)\n",
    "print(len(train))\n",
    "print(len(test))"
   ]
  },
  {
   "cell_type": "code",
   "execution_count": 139,
   "metadata": {
    "collapsed": false
   },
   "outputs": [
    {
     "name": "stdout",
     "output_type": "stream",
     "text": [
      "Tensor(\"Variable/read:0\", shape=(3, 1), dtype=float32)\n",
      "Tensor(\"bias/read:0\", shape=(1,), dtype=float32)\n",
      "Tensor(\"x:0\", shape=(?,), dtype=float32)\n"
     ]
    }
   ],
   "source": [
    "learning_rate = 0.01\n",
    "training_epochs = 1000\n",
    "cost_history = np.empty(shape=[1],dtype=float)\n",
    "\n",
    "train_x = train[['Displacement', 'Horsepower', 'Weight']]\n",
    "train_y = train[['MPG']]\n",
    "test_x = test[['Displacement', 'Horsepower', 'Weight']]\n",
    "test_y = test[['MPG']]\n",
    "\n",
    "n_dim = train_x.shape[1]\n",
    "\n",
    "X = tf.placeholder(tf.float32,[None,n_dim])\n",
    "Y = tf.placeholder(tf.float32,[None,1])\n",
    "W = tf.Variable(tf.ones([n_dim,1]))\n",
    "\n",
    "init = tf.initialize_all_variables()\n",
    "\n",
    "\n",
    "# Build inference graph.\n",
    "# Create Variables W and b that compute y_data = W * x_data + b\n",
    "#W = tf.Variable(tf.random_normal([1]), name='weights')\n",
    "#b = tf.Variable(tf.random_normal([1]), name='bias')\n",
    "\n",
    "# Uncomment the following lines to see what W and b are.\n",
    "print(W)\n",
    "print(b)\n",
    "\n",
    "# Create a placeholder we'll use later to feed x's into the graph for training and eval.\n",
    "# shape=[None] means we can put in any number of examples. \n",
    "# This is used for minibatch training, and to evaluate a lot of examples at once.\n",
    "x = tf.placeholder(shape=[None], dtype=tf.float32, name='x')\n",
    "\n",
    "# Uncomment this line to see what x is\n",
    "print(x)\n",
    "\n",
    "# This is the same as tf.add(tf.mul(W, x), b), but looks nicer\n",
    "#y = tf.add(tf.matmul(X, W), b)\n"
   ]
  },
  {
   "cell_type": "code",
   "execution_count": 140,
   "metadata": {
    "collapsed": false
   },
   "outputs": [],
   "source": [
    "y_ = tf.matmul(X, W)\n",
    "cost = tf.reduce_mean(tf.square(y_ - Y))\n",
    "training_step = tf.train.GradientDescentOptimizer(learning_rate).minimize(cost)"
   ]
  },
  {
   "cell_type": "code",
   "execution_count": 141,
   "metadata": {
    "collapsed": true
   },
   "outputs": [],
   "source": [
    "# Write the graph so we can look at it in TensorBoard\n",
    "# https://www.tensorflow.org/versions/r0.12/how_tos/summaries_and_tensorboard/index.html\n",
    "sw = tf.summary.FileWriter('logs/regression_car', graph=tf.get_default_graph())"
   ]
  },
  {
   "cell_type": "code",
   "execution_count": 142,
   "metadata": {
    "collapsed": true
   },
   "outputs": [],
   "source": [
    "sess = tf.Session()\n",
    "sess.run(init)\n",
    "\n",
    "for epoch in range(training_epochs):\n",
    "    sess.run(training_step,feed_dict={X: train_x, Y: train_y})\n",
    "    cost_history = np.append(\n",
    "        cost_history,sess.run(\n",
    "            cost,feed_dict={X: train_x, Y: train_y}))"
   ]
  },
  {
   "cell_type": "code",
   "execution_count": 143,
   "metadata": {
    "collapsed": false
   },
   "outputs": [
    {
     "data": {
      "image/png": "[encoded data removed]",
      "text/plain": [
       "<matplotlib.figure.Figure at 0x118f95940>"
      ]
     },
     "metadata": {},
     "output_type": "display_data"
    }
   ],
   "source": [
    "plt.plot(range(len(cost_history)),cost_history)\n",
    "plt.axis([0,training_epochs,0,np.max(cost_history)])\n",
    "plt.show()"
   ]
  },
  {
   "cell_type": "code",
   "execution_count": 144,
   "metadata": {
    "collapsed": false
   },
   "outputs": [
    {
     "data": {
      "text/plain": [
       "array([             nan,   4.41304351e+17,   1.66342561e+28, ...,\n",
       "                    nan,              nan,              nan])"
      ]
     },
     "execution_count": 144,
     "metadata": {},
     "output_type": "execute_result"
    }
   ],
   "source": [
    "cost_history"
   ]
  },
  {
   "cell_type": "code",
   "execution_count": 145,
   "metadata": {
    "collapsed": false
   },
   "outputs": [
    {
     "ename": "ValueError",
     "evalue": "Argument must be a dense tensor:     MPG\n1   NaN\n6   NaN\n7   NaN\n11  NaN\n14  NaN\n16  NaN\n26  NaN\n27  NaN\n42  NaN\n51  NaN\n55  NaN\n56  NaN\n57  NaN\n68  NaN\n73  NaN\n76  NaN\n79  NaN\n89  NaN\n92  NaN\n96  NaN - got shape [20, 1], but wanted [].",
     "output_type": "error",
     "traceback": [
      "\u001b[0;31m---------------------------------------------------------------------------\u001b[0m",
      "\u001b[0;31mValueError\u001b[0m                                Traceback (most recent call last)",
      "\u001b[0;32m/Users/Shanaka/anaconda/lib/python3.5/site-packages/tensorflow/python/framework/op_def_library.py\u001b[0m in \u001b[0;36mapply_op\u001b[0;34m(self, op_type_name, name, **keywords)\u001b[0m\n\u001b[1;32m    490\u001b[0m                 \u001b[0mas_ref\u001b[0m\u001b[0;34m=\u001b[0m\u001b[0minput_arg\u001b[0m\u001b[0;34m.\u001b[0m\u001b[0mis_ref\u001b[0m\u001b[0;34m,\u001b[0m\u001b[0;34m\u001b[0m\u001b[0m\n\u001b[0;32m--> 491\u001b[0;31m                 preferred_dtype=default_dtype)\n\u001b[0m\u001b[1;32m    492\u001b[0m           \u001b[0;32mexcept\u001b[0m \u001b[0mTypeError\u001b[0m \u001b[0;32mas\u001b[0m \u001b[0merr\u001b[0m\u001b[0;34m:\u001b[0m\u001b[0;34m\u001b[0m\u001b[0m\n",
      "\u001b[0;32m/Users/Shanaka/anaconda/lib/python3.5/site-packages/tensorflow/python/framework/ops.py\u001b[0m in \u001b[0;36minternal_convert_to_tensor\u001b[0;34m(value, dtype, name, as_ref, preferred_dtype)\u001b[0m\n\u001b[1;32m    701\u001b[0m         \u001b[0;32mif\u001b[0m \u001b[0mret\u001b[0m \u001b[0;32mis\u001b[0m \u001b[0;32mNone\u001b[0m\u001b[0;34m:\u001b[0m\u001b[0;34m\u001b[0m\u001b[0m\n\u001b[0;32m--> 702\u001b[0;31m           \u001b[0mret\u001b[0m \u001b[0;34m=\u001b[0m \u001b[0mconversion_func\u001b[0m\u001b[0;34m(\u001b[0m\u001b[0mvalue\u001b[0m\u001b[0;34m,\u001b[0m \u001b[0mdtype\u001b[0m\u001b[0;34m=\u001b[0m\u001b[0mdtype\u001b[0m\u001b[0;34m,\u001b[0m \u001b[0mname\u001b[0m\u001b[0;34m=\u001b[0m\u001b[0mname\u001b[0m\u001b[0;34m,\u001b[0m \u001b[0mas_ref\u001b[0m\u001b[0;34m=\u001b[0m\u001b[0mas_ref\u001b[0m\u001b[0;34m)\u001b[0m\u001b[0;34m\u001b[0m\u001b[0m\n\u001b[0m\u001b[1;32m    703\u001b[0m \u001b[0;34m\u001b[0m\u001b[0m\n",
      "\u001b[0;32m/Users/Shanaka/anaconda/lib/python3.5/site-packages/tensorflow/python/framework/constant_op.py\u001b[0m in \u001b[0;36m_constant_tensor_conversion_function\u001b[0;34m(v, dtype, name, as_ref)\u001b[0m\n\u001b[1;32m    109\u001b[0m   \u001b[0m_\u001b[0m \u001b[0;34m=\u001b[0m \u001b[0mas_ref\u001b[0m\u001b[0;34m\u001b[0m\u001b[0m\n\u001b[0;32m--> 110\u001b[0;31m   \u001b[0;32mreturn\u001b[0m \u001b[0mconstant\u001b[0m\u001b[0;34m(\u001b[0m\u001b[0mv\u001b[0m\u001b[0;34m,\u001b[0m \u001b[0mdtype\u001b[0m\u001b[0;34m=\u001b[0m\u001b[0mdtype\u001b[0m\u001b[0;34m,\u001b[0m \u001b[0mname\u001b[0m\u001b[0;34m=\u001b[0m\u001b[0mname\u001b[0m\u001b[0;34m)\u001b[0m\u001b[0;34m\u001b[0m\u001b[0m\n\u001b[0m\u001b[1;32m    111\u001b[0m \u001b[0;34m\u001b[0m\u001b[0m\n",
      "\u001b[0;32m/Users/Shanaka/anaconda/lib/python3.5/site-packages/tensorflow/python/framework/constant_op.py\u001b[0m in \u001b[0;36mconstant\u001b[0;34m(value, dtype, shape, name, verify_shape)\u001b[0m\n\u001b[1;32m     98\u001b[0m   tensor_value.tensor.CopyFrom(\n\u001b[0;32m---> 99\u001b[0;31m       tensor_util.make_tensor_proto(value, dtype=dtype, shape=shape, verify_shape=verify_shape))\n\u001b[0m\u001b[1;32m    100\u001b[0m   \u001b[0mdtype_value\u001b[0m \u001b[0;34m=\u001b[0m \u001b[0mattr_value_pb2\u001b[0m\u001b[0;34m.\u001b[0m\u001b[0mAttrValue\u001b[0m\u001b[0;34m(\u001b[0m\u001b[0mtype\u001b[0m\u001b[0;34m=\u001b[0m\u001b[0mtensor_value\u001b[0m\u001b[0;34m.\u001b[0m\u001b[0mtensor\u001b[0m\u001b[0;34m.\u001b[0m\u001b[0mdtype\u001b[0m\u001b[0;34m)\u001b[0m\u001b[0;34m\u001b[0m\u001b[0m\n",
      "\u001b[0;32m/Users/Shanaka/anaconda/lib/python3.5/site-packages/tensorflow/python/framework/tensor_util.py\u001b[0m in \u001b[0;36mmake_tensor_proto\u001b[0;34m(values, dtype, shape, verify_shape)\u001b[0m\n\u001b[1;32m    375\u001b[0m                              \u001b[0mvalues\u001b[0m\u001b[0;34m,\u001b[0m \u001b[0mlist\u001b[0m\u001b[0;34m(\u001b[0m\u001b[0mnparray\u001b[0m\u001b[0;34m.\u001b[0m\u001b[0mshape\u001b[0m\u001b[0;34m)\u001b[0m\u001b[0;34m,\u001b[0m\u001b[0;34m\u001b[0m\u001b[0m\n\u001b[0;32m--> 376\u001b[0;31m                              _GetDenseDimensions(values)))\n\u001b[0m\u001b[1;32m    377\u001b[0m \u001b[0;34m\u001b[0m\u001b[0m\n",
      "\u001b[0;31mValueError\u001b[0m: Argument must be a dense tensor:     MPG\n1   NaN\n6   NaN\n7   NaN\n11  NaN\n14  NaN\n16  NaN\n26  NaN\n27  NaN\n42  NaN\n51  NaN\n55  NaN\n56  NaN\n57  NaN\n68  NaN\n73  NaN\n76  NaN\n79  NaN\n89  NaN\n92  NaN\n96  NaN - got shape [20, 1], but wanted [].",
      "\nDuring handling of the above exception, another exception occurred:\n",
      "\u001b[0;31mValueError\u001b[0m                                Traceback (most recent call last)",
      "\u001b[0;32m<ipython-input-145-391083a0be07>\u001b[0m in \u001b[0;36m<module>\u001b[0;34m()\u001b[0m\n\u001b[1;32m      1\u001b[0m \u001b[0;34m\u001b[0m\u001b[0m\n\u001b[1;32m      2\u001b[0m \u001b[0mpred_y\u001b[0m \u001b[0;34m=\u001b[0m \u001b[0msess\u001b[0m\u001b[0;34m.\u001b[0m\u001b[0mrun\u001b[0m\u001b[0;34m(\u001b[0m\u001b[0my_\u001b[0m\u001b[0;34m,\u001b[0m \u001b[0mfeed_dict\u001b[0m\u001b[0;34m=\u001b[0m\u001b[0;34m{\u001b[0m\u001b[0mX\u001b[0m\u001b[0;34m:\u001b[0m \u001b[0mtest_x\u001b[0m\u001b[0;34m}\u001b[0m\u001b[0;34m)\u001b[0m\u001b[0;34m\u001b[0m\u001b[0m\n\u001b[0;32m----> 3\u001b[0;31m \u001b[0mmse\u001b[0m \u001b[0;34m=\u001b[0m \u001b[0mtf\u001b[0m\u001b[0;34m.\u001b[0m\u001b[0mreduce_mean\u001b[0m\u001b[0;34m(\u001b[0m\u001b[0mtf\u001b[0m\u001b[0;34m.\u001b[0m\u001b[0msquare\u001b[0m\u001b[0;34m(\u001b[0m\u001b[0mpred_y\u001b[0m \u001b[0;34m-\u001b[0m \u001b[0mtest_y\u001b[0m\u001b[0;34m)\u001b[0m\u001b[0;34m)\u001b[0m\u001b[0;34m\u001b[0m\u001b[0m\n\u001b[0m\u001b[1;32m      4\u001b[0m \u001b[0mprint\u001b[0m\u001b[0;34m(\u001b[0m\u001b[0;34m\"MSE: %.4f\"\u001b[0m \u001b[0;34m%\u001b[0m \u001b[0msess\u001b[0m\u001b[0;34m.\u001b[0m\u001b[0mrun\u001b[0m\u001b[0;34m(\u001b[0m\u001b[0mmse\u001b[0m\u001b[0;34m)\u001b[0m\u001b[0;34m)\u001b[0m\u001b[0;34m\u001b[0m\u001b[0m\n\u001b[1;32m      5\u001b[0m \u001b[0;34m\u001b[0m\u001b[0m\n",
      "\u001b[0;32m/Users/Shanaka/anaconda/lib/python3.5/site-packages/tensorflow/python/ops/math_ops.py\u001b[0m in \u001b[0;36msquare\u001b[0;34m(x, name)\u001b[0m\n\u001b[1;32m    382\u001b[0m           indices=x.indices, values=x_square, dense_shape=x.dense_shape)\n\u001b[1;32m    383\u001b[0m     \u001b[0;32melse\u001b[0m\u001b[0;34m:\u001b[0m\u001b[0;34m\u001b[0m\u001b[0m\n\u001b[0;32m--> 384\u001b[0;31m       \u001b[0;32mreturn\u001b[0m \u001b[0mgen_math_ops\u001b[0m\u001b[0;34m.\u001b[0m\u001b[0msquare\u001b[0m\u001b[0;34m(\u001b[0m\u001b[0mx\u001b[0m\u001b[0;34m,\u001b[0m \u001b[0mname\u001b[0m\u001b[0;34m=\u001b[0m\u001b[0mname\u001b[0m\u001b[0;34m)\u001b[0m\u001b[0;34m\u001b[0m\u001b[0m\n\u001b[0m\u001b[1;32m    385\u001b[0m \u001b[0;34m\u001b[0m\u001b[0m\n\u001b[1;32m    386\u001b[0m \u001b[0;34m\u001b[0m\u001b[0m\n",
      "\u001b[0;32m/Users/Shanaka/anaconda/lib/python3.5/site-packages/tensorflow/python/ops/gen_math_ops.py\u001b[0m in \u001b[0;36msquare\u001b[0;34m(x, name)\u001b[0m\n\u001b[1;32m   2731\u001b[0m     \u001b[0mA\u001b[0m\u001b[0;31m \u001b[0m\u001b[0;31m`\u001b[0m\u001b[0mTensor\u001b[0m\u001b[0;31m`\u001b[0m\u001b[0;34m.\u001b[0m \u001b[0mHas\u001b[0m \u001b[0mthe\u001b[0m \u001b[0msame\u001b[0m \u001b[0mtype\u001b[0m \u001b[0;32mas\u001b[0m\u001b[0;31m \u001b[0m\u001b[0;31m`\u001b[0m\u001b[0mx\u001b[0m\u001b[0;31m`\u001b[0m\u001b[0;34m.\u001b[0m\u001b[0;34m\u001b[0m\u001b[0m\n\u001b[1;32m   2732\u001b[0m   \"\"\"\n\u001b[0;32m-> 2733\u001b[0;31m   \u001b[0mresult\u001b[0m \u001b[0;34m=\u001b[0m \u001b[0m_op_def_lib\u001b[0m\u001b[0;34m.\u001b[0m\u001b[0mapply_op\u001b[0m\u001b[0;34m(\u001b[0m\u001b[0;34m\"Square\"\u001b[0m\u001b[0;34m,\u001b[0m \u001b[0mx\u001b[0m\u001b[0;34m=\u001b[0m\u001b[0mx\u001b[0m\u001b[0;34m,\u001b[0m \u001b[0mname\u001b[0m\u001b[0;34m=\u001b[0m\u001b[0mname\u001b[0m\u001b[0;34m)\u001b[0m\u001b[0;34m\u001b[0m\u001b[0m\n\u001b[0m\u001b[1;32m   2734\u001b[0m   \u001b[0;32mreturn\u001b[0m \u001b[0mresult\u001b[0m\u001b[0;34m\u001b[0m\u001b[0m\n\u001b[1;32m   2735\u001b[0m \u001b[0;34m\u001b[0m\u001b[0m\n",
      "\u001b[0;32m/Users/Shanaka/anaconda/lib/python3.5/site-packages/tensorflow/python/framework/op_def_library.py\u001b[0m in \u001b[0;36mapply_op\u001b[0;34m(self, op_type_name, name, **keywords)\u001b[0m\n\u001b[1;32m    502\u001b[0m             \u001b[0;31m# What type does convert_to_tensor think it has?\u001b[0m\u001b[0;34m\u001b[0m\u001b[0;34m\u001b[0m\u001b[0m\n\u001b[1;32m    503\u001b[0m             observed = ops.internal_convert_to_tensor(\n\u001b[0;32m--> 504\u001b[0;31m                 values, as_ref=input_arg.is_ref).dtype.name\n\u001b[0m\u001b[1;32m    505\u001b[0m             prefix = (\"Input '%s' of '%s' Op has type %s that does not match\" %\n\u001b[1;32m    506\u001b[0m                       (input_name, op_type_name, observed))\n",
      "\u001b[0;32m/Users/Shanaka/anaconda/lib/python3.5/site-packages/tensorflow/python/framework/ops.py\u001b[0m in \u001b[0;36minternal_convert_to_tensor\u001b[0;34m(value, dtype, name, as_ref, preferred_dtype)\u001b[0m\n\u001b[1;32m    700\u001b[0m \u001b[0;34m\u001b[0m\u001b[0m\n\u001b[1;32m    701\u001b[0m         \u001b[0;32mif\u001b[0m \u001b[0mret\u001b[0m \u001b[0;32mis\u001b[0m \u001b[0;32mNone\u001b[0m\u001b[0;34m:\u001b[0m\u001b[0;34m\u001b[0m\u001b[0m\n\u001b[0;32m--> 702\u001b[0;31m           \u001b[0mret\u001b[0m \u001b[0;34m=\u001b[0m \u001b[0mconversion_func\u001b[0m\u001b[0;34m(\u001b[0m\u001b[0mvalue\u001b[0m\u001b[0;34m,\u001b[0m \u001b[0mdtype\u001b[0m\u001b[0;34m=\u001b[0m\u001b[0mdtype\u001b[0m\u001b[0;34m,\u001b[0m \u001b[0mname\u001b[0m\u001b[0;34m=\u001b[0m\u001b[0mname\u001b[0m\u001b[0;34m,\u001b[0m \u001b[0mas_ref\u001b[0m\u001b[0;34m=\u001b[0m\u001b[0mas_ref\u001b[0m\u001b[0;34m)\u001b[0m\u001b[0;34m\u001b[0m\u001b[0m\n\u001b[0m\u001b[1;32m    703\u001b[0m \u001b[0;34m\u001b[0m\u001b[0m\n\u001b[1;32m    704\u001b[0m         \u001b[0;32mif\u001b[0m \u001b[0mret\u001b[0m \u001b[0;32mis\u001b[0m \u001b[0mNotImplemented\u001b[0m\u001b[0;34m:\u001b[0m\u001b[0;34m\u001b[0m\u001b[0m\n",
      "\u001b[0;32m/Users/Shanaka/anaconda/lib/python3.5/site-packages/tensorflow/python/framework/constant_op.py\u001b[0m in \u001b[0;36m_constant_tensor_conversion_function\u001b[0;34m(v, dtype, name, as_ref)\u001b[0m\n\u001b[1;32m    108\u001b[0m                                          as_ref=False):\n\u001b[1;32m    109\u001b[0m   \u001b[0m_\u001b[0m \u001b[0;34m=\u001b[0m \u001b[0mas_ref\u001b[0m\u001b[0;34m\u001b[0m\u001b[0m\n\u001b[0;32m--> 110\u001b[0;31m   \u001b[0;32mreturn\u001b[0m \u001b[0mconstant\u001b[0m\u001b[0;34m(\u001b[0m\u001b[0mv\u001b[0m\u001b[0;34m,\u001b[0m \u001b[0mdtype\u001b[0m\u001b[0;34m=\u001b[0m\u001b[0mdtype\u001b[0m\u001b[0;34m,\u001b[0m \u001b[0mname\u001b[0m\u001b[0;34m=\u001b[0m\u001b[0mname\u001b[0m\u001b[0;34m)\u001b[0m\u001b[0;34m\u001b[0m\u001b[0m\n\u001b[0m\u001b[1;32m    111\u001b[0m \u001b[0;34m\u001b[0m\u001b[0m\n\u001b[1;32m    112\u001b[0m \u001b[0;34m\u001b[0m\u001b[0m\n",
      "\u001b[0;32m/Users/Shanaka/anaconda/lib/python3.5/site-packages/tensorflow/python/framework/constant_op.py\u001b[0m in \u001b[0;36mconstant\u001b[0;34m(value, dtype, shape, name, verify_shape)\u001b[0m\n\u001b[1;32m     97\u001b[0m   \u001b[0mtensor_value\u001b[0m \u001b[0;34m=\u001b[0m \u001b[0mattr_value_pb2\u001b[0m\u001b[0;34m.\u001b[0m\u001b[0mAttrValue\u001b[0m\u001b[0;34m(\u001b[0m\u001b[0;34m)\u001b[0m\u001b[0;34m\u001b[0m\u001b[0m\n\u001b[1;32m     98\u001b[0m   tensor_value.tensor.CopyFrom(\n\u001b[0;32m---> 99\u001b[0;31m       tensor_util.make_tensor_proto(value, dtype=dtype, shape=shape, verify_shape=verify_shape))\n\u001b[0m\u001b[1;32m    100\u001b[0m   \u001b[0mdtype_value\u001b[0m \u001b[0;34m=\u001b[0m \u001b[0mattr_value_pb2\u001b[0m\u001b[0;34m.\u001b[0m\u001b[0mAttrValue\u001b[0m\u001b[0;34m(\u001b[0m\u001b[0mtype\u001b[0m\u001b[0;34m=\u001b[0m\u001b[0mtensor_value\u001b[0m\u001b[0;34m.\u001b[0m\u001b[0mtensor\u001b[0m\u001b[0;34m.\u001b[0m\u001b[0mdtype\u001b[0m\u001b[0;34m)\u001b[0m\u001b[0;34m\u001b[0m\u001b[0m\n\u001b[1;32m    101\u001b[0m   const_tensor = g.create_op(\n",
      "\u001b[0;32m/Users/Shanaka/anaconda/lib/python3.5/site-packages/tensorflow/python/framework/tensor_util.py\u001b[0m in \u001b[0;36mmake_tensor_proto\u001b[0;34m(values, dtype, shape, verify_shape)\u001b[0m\n\u001b[1;32m    374\u001b[0m                          \"\"\" - got shape %s, but wanted %s.\"\"\" % (\n\u001b[1;32m    375\u001b[0m                              \u001b[0mvalues\u001b[0m\u001b[0;34m,\u001b[0m \u001b[0mlist\u001b[0m\u001b[0;34m(\u001b[0m\u001b[0mnparray\u001b[0m\u001b[0;34m.\u001b[0m\u001b[0mshape\u001b[0m\u001b[0;34m)\u001b[0m\u001b[0;34m,\u001b[0m\u001b[0;34m\u001b[0m\u001b[0m\n\u001b[0;32m--> 376\u001b[0;31m                              _GetDenseDimensions(values)))\n\u001b[0m\u001b[1;32m    377\u001b[0m \u001b[0;34m\u001b[0m\u001b[0m\n\u001b[1;32m    378\u001b[0m     \u001b[0;31m# python/numpy default float type is float64. We prefer float32 instead.\u001b[0m\u001b[0;34m\u001b[0m\u001b[0;34m\u001b[0m\u001b[0m\n",
      "\u001b[0;31mValueError\u001b[0m: Argument must be a dense tensor:     MPG\n1   NaN\n6   NaN\n7   NaN\n11  NaN\n14  NaN\n16  NaN\n26  NaN\n27  NaN\n42  NaN\n51  NaN\n55  NaN\n56  NaN\n57  NaN\n68  NaN\n73  NaN\n76  NaN\n79  NaN\n89  NaN\n92  NaN\n96  NaN - got shape [20, 1], but wanted []."
     ]
    }
   ],
   "source": [
    "\n",
    "pred_y = sess.run(y_, feed_dict={X: test_x})\n",
    "mse = tf.reduce_mean(tf.square(pred_y - test_y))\n",
    "print(\"MSE: %.4f\" % sess.run(mse)) \n",
    "\n",
    "fig, ax = plt.subplots()\n",
    "ax.scatter(test_y, pred_y)\n",
    "ax.plot([test_y.min(), test_y.max()], [test_y.min(), test_y.max()], 'k--', lw=3)\n",
    "ax.set_xlabel('Measured')\n",
    "ax.set_ylabel('Predicted')\n",
    "plt.show()"
   ]
  },
  {
   "cell_type": "code",
   "execution_count": 149,
   "metadata": {
    "collapsed": false
   },
   "outputs": [
    {
     "name": "stdout",
     "output_type": "stream",
     "text": [
      "float32\n"
     ]
    }
   ],
   "source": [
    "for y in test_y.columns:\n",
    "    print(test_y[y].dtype)"
   ]
  },
  {
   "cell_type": "code",
   "execution_count": 150,
   "metadata": {
    "collapsed": false
   },
   "outputs": [
    {
     "data": {
      "text/plain": [
       "pandas.core.frame.DataFrame"
      ]
     },
     "execution_count": 150,
     "metadata": {},
     "output_type": "execute_result"
    }
   ],
   "source": [
    "type(test_y)"
   ]
  },
  {
   "cell_type": "code",
   "execution_count": 161,
   "metadata": {
    "collapsed": false
   },
   "outputs": [
    {
     "ename": "AttributeError",
     "evalue": "'numpy.ndarray' object has no attribute 'head'",
     "output_type": "error",
     "traceback": [
      "\u001b[0;31m---------------------------------------------------------------------------\u001b[0m",
      "\u001b[0;31mAttributeError\u001b[0m                            Traceback (most recent call last)",
      "\u001b[0;32m<ipython-input-161-cf4d5151f97f>\u001b[0m in \u001b[0;36m<module>\u001b[0;34m()\u001b[0m\n\u001b[1;32m      7\u001b[0m \u001b[0mcar\u001b[0m \u001b[0;34m=\u001b[0m \u001b[0mread_dataset\u001b[0m\u001b[0;34m(\u001b[0m\u001b[0mfilePath\u001b[0m\u001b[0;34m=\u001b[0m\u001b[0;34m\"data/Reduced_Car_Data.csv\"\u001b[0m\u001b[0;34m)\u001b[0m\u001b[0;34m\u001b[0m\u001b[0m\n\u001b[1;32m      8\u001b[0m \u001b[0mlabels\u001b[0m \u001b[0;34m=\u001b[0m \u001b[0mnp\u001b[0m\u001b[0;34m.\u001b[0m\u001b[0marray\u001b[0m\u001b[0;34m(\u001b[0m\u001b[0mcar\u001b[0m\u001b[0;34m[\u001b[0m\u001b[0;36m4\u001b[0m\u001b[0;34m]\u001b[0m\u001b[0;34m)\u001b[0m\u001b[0;34m\u001b[0m\u001b[0m\n\u001b[0;32m----> 9\u001b[0;31m \u001b[0mlabels\u001b[0m\u001b[0;34m.\u001b[0m\u001b[0mhead\u001b[0m\u001b[0;34m(\u001b[0m\u001b[0;34m)\u001b[0m\u001b[0;34m\u001b[0m\u001b[0m\n\u001b[0m",
      "\u001b[0;31mAttributeError\u001b[0m: 'numpy.ndarray' object has no attribute 'head'"
     ]
    }
   ],
   "source": [
    "from numpy import genfromtxt\n",
    "\n",
    "\n",
    "def read_dataset(filePath,delimiter=','):\n",
    "    return genfromtxt(filePath, delimiter=delimiter)\n",
    "\n",
    "car = read_dataset(filePath=\"data/Reduced_Car_Data.csv\")\n",
    "labels = np.array(car[4])\n"
   ]
  },
  {
   "cell_type": "code",
   "execution_count": 165,
   "metadata": {
    "collapsed": false
   },
   "outputs": [
    {
     "ename": "SyntaxError",
     "evalue": "invalid syntax (<ipython-input-165-4d9cc37882ed>, line 3)",
     "output_type": "error",
     "traceback": [
      "\u001b[0;36m  File \u001b[0;32m\"<ipython-input-165-4d9cc37882ed>\"\u001b[0;36m, line \u001b[0;32m3\u001b[0m\n\u001b[0;31m    features = np.array(car[,4])\u001b[0m\n\u001b[0m                            ^\u001b[0m\n\u001b[0;31mSyntaxError\u001b[0m\u001b[0;31m:\u001b[0m invalid syntax\n"
     ]
    }
   ],
   "source": [
    "def read_car_data():\n",
    "    car = read_dataset(filePath=\"data/Reduced_Car_Data.csv\")\n",
    "    features = np.array(car[,4])\n",
    "    labels = np.array(car[,1:3])\n",
    "    return features, labels"
   ]
  },
  {
   "cell_type": "code",
   "execution_count": 163,
   "metadata": {
    "collapsed": true
   },
   "outputs": [],
   "source": [
    "features,labels = read_car_data()"
   ]
  },
  {
   "cell_type": "code",
   "execution_count": 164,
   "metadata": {
    "collapsed": false
   },
   "outputs": [
    {
     "data": {
      "text/plain": [
       "array([    4.,   304.,   150.,  3433.,    16.])"
      ]
     },
     "execution_count": 164,
     "metadata": {},
     "output_type": "execute_result"
    }
   ],
   "source": [
    "features"
   ]
  },
  {
   "cell_type": "code",
   "execution_count": 166,
   "metadata": {
    "collapsed": false
   },
   "outputs": [
    {
     "data": {
      "text/plain": [
       "array([[             nan,              nan,              nan,\n",
       "                     nan,              nan],\n",
       "       [  1.00000000e+00,   3.07000000e+02,   1.30000000e+02,\n",
       "          3.50400000e+03,   1.80000000e+01],\n",
       "       [  2.00000000e+00,   3.50000000e+02,   1.65000000e+02,\n",
       "          3.69300000e+03,   1.50000000e+01],\n",
       "       [  3.00000000e+00,   3.18000000e+02,   1.50000000e+02,\n",
       "          3.43600000e+03,   1.80000000e+01],\n",
       "       [  4.00000000e+00,   3.04000000e+02,   1.50000000e+02,\n",
       "          3.43300000e+03,   1.60000000e+01],\n",
       "       [  5.00000000e+00,   3.02000000e+02,   1.40000000e+02,\n",
       "          3.44900000e+03,   1.70000000e+01],\n",
       "       [  6.00000000e+00,   4.29000000e+02,   1.98000000e+02,\n",
       "          4.34100000e+03,   1.50000000e+01],\n",
       "       [  7.00000000e+00,   4.54000000e+02,   2.20000000e+02,\n",
       "          4.35400000e+03,   1.40000000e+01],\n",
       "       [  8.00000000e+00,   4.40000000e+02,   2.15000000e+02,\n",
       "          4.31200000e+03,   1.40000000e+01],\n",
       "       [  9.00000000e+00,   4.55000000e+02,   2.25000000e+02,\n",
       "          4.42500000e+03,   1.40000000e+01],\n",
       "       [  1.00000000e+01,   3.90000000e+02,   1.90000000e+02,\n",
       "          3.85000000e+03,   1.50000000e+01],\n",
       "       [  1.10000000e+01,   1.33000000e+02,   1.15000000e+02,\n",
       "          3.09000000e+03,   1.40000000e+01],\n",
       "       [  1.20000000e+01,   3.50000000e+02,   1.65000000e+02,\n",
       "          4.14200000e+03,   1.60000000e+01],\n",
       "       [  1.30000000e+01,   3.51000000e+02,   1.53000000e+02,\n",
       "          4.03400000e+03,   1.70000000e+01],\n",
       "       [  1.40000000e+01,   3.83000000e+02,   1.75000000e+02,\n",
       "          4.16600000e+03,   1.90000000e+01],\n",
       "       [  1.50000000e+01,   3.60000000e+02,   1.75000000e+02,\n",
       "          3.85000000e+03,   2.00000000e+01],\n",
       "       [  1.60000000e+01,   3.83000000e+02,   1.70000000e+02,\n",
       "          3.56300000e+03,   1.50000000e+01],\n",
       "       [  1.70000000e+01,   3.40000000e+02,   1.60000000e+02,\n",
       "          3.60900000e+03,   1.40000000e+01],\n",
       "       [  1.80000000e+01,   3.02000000e+02,   1.40000000e+02,\n",
       "          3.35300000e+03,   1.60000000e+01],\n",
       "       [  1.90000000e+01,   4.00000000e+02,   1.50000000e+02,\n",
       "          3.76100000e+03,   1.50000000e+01],\n",
       "       [  2.00000000e+01,   4.55000000e+02,   2.25000000e+02,\n",
       "          3.08600000e+03,   1.40000000e+01],\n",
       "       [  2.10000000e+01,   1.13000000e+02,   9.50000000e+01,\n",
       "          2.37200000e+03,   2.40000000e+01],\n",
       "       [  2.20000000e+01,   1.98000000e+02,   9.50000000e+01,\n",
       "          2.83300000e+03,   2.20000000e+01],\n",
       "       [  2.30000000e+01,   1.99000000e+02,   9.70000000e+01,\n",
       "          2.77400000e+03,   1.80000000e+01],\n",
       "       [  2.40000000e+01,   2.00000000e+02,   8.50000000e+01,\n",
       "          2.58700000e+03,   2.10000000e+01],\n",
       "       [  2.50000000e+01,   9.70000000e+01,   8.80000000e+01,\n",
       "          2.13000000e+03,   2.70000000e+01],\n",
       "       [  2.60000000e+01,   9.70000000e+01,   4.60000000e+01,\n",
       "          1.83500000e+03,   2.60000000e+01],\n",
       "       [  2.70000000e+01,   1.10000000e+02,   8.70000000e+01,\n",
       "          2.67200000e+03,   2.50000000e+01],\n",
       "       [  2.80000000e+01,   1.07000000e+02,   9.00000000e+01,\n",
       "          2.43000000e+03,   2.40000000e+01],\n",
       "       [  2.90000000e+01,   1.04000000e+02,   9.50000000e+01,\n",
       "          2.37500000e+03,   2.50000000e+01],\n",
       "       [  3.00000000e+01,   1.21000000e+02,   1.13000000e+02,\n",
       "          2.23400000e+03,   2.60000000e+01],\n",
       "       [  3.10000000e+01,   1.99000000e+02,   9.00000000e+01,\n",
       "          2.64800000e+03,   2.10000000e+01],\n",
       "       [  3.20000000e+01,   3.60000000e+02,   2.15000000e+02,\n",
       "          4.61500000e+03,   1.00000000e+01],\n",
       "       [  3.30000000e+01,   3.07000000e+02,   2.00000000e+02,\n",
       "          4.37600000e+03,   1.00000000e+01],\n",
       "       [  3.40000000e+01,   3.18000000e+02,   2.10000000e+02,\n",
       "          4.38200000e+03,   1.10000000e+01],\n",
       "       [  3.50000000e+01,   3.04000000e+02,   1.93000000e+02,\n",
       "          4.73200000e+03,   9.00000000e+00],\n",
       "       [  3.60000000e+01,   1.07000000e+02,   8.60000000e+01,\n",
       "          2.46400000e+03,   2.80000000e+01],\n",
       "       [  3.70000000e+01,   1.16000000e+02,   8.10000000e+01,\n",
       "          2.22000000e+03,   2.50000000e+01],\n",
       "       [  3.80000000e+01,   1.40000000e+02,   9.20000000e+01,\n",
       "          2.57200000e+03,   2.50000000e+01],\n",
       "       [  3.90000000e+01,   9.80000000e+01,   7.90000000e+01,\n",
       "          2.25500000e+03,   2.60000000e+01],\n",
       "       [  4.00000000e+01,   1.01000000e+02,   8.30000000e+01,\n",
       "          2.20200000e+03,   2.70000000e+01],\n",
       "       [  4.10000000e+01,   3.05000000e+02,   1.40000000e+02,\n",
       "          4.21500000e+03,   1.75000000e+01],\n",
       "       [  4.20000000e+01,   3.18000000e+02,   1.50000000e+02,\n",
       "          4.19000000e+03,   1.60000000e+01],\n",
       "       [  4.30000000e+01,   3.04000000e+02,   1.20000000e+02,\n",
       "          3.96200000e+03,   1.55000000e+01],\n",
       "       [  4.40000000e+01,   3.51000000e+02,   1.52000000e+02,\n",
       "          4.21500000e+03,   1.45000000e+01],\n",
       "       [  4.50000000e+01,   2.25000000e+02,   1.00000000e+02,\n",
       "          3.23300000e+03,   2.20000000e+01],\n",
       "       [  4.60000000e+01,   2.50000000e+02,   1.05000000e+02,\n",
       "          3.35300000e+03,   2.20000000e+01],\n",
       "       [  4.70000000e+01,   2.00000000e+02,   8.10000000e+01,\n",
       "          3.01200000e+03,   2.40000000e+01],\n",
       "       [  4.80000000e+01,   2.32000000e+02,   9.00000000e+01,\n",
       "          3.08500000e+03,   2.25000000e+01],\n",
       "       [  4.90000000e+01,   8.50000000e+01,   5.20000000e+01,\n",
       "          2.03500000e+03,   2.90000000e+01],\n",
       "       [  5.00000000e+01,   9.80000000e+01,   6.00000000e+01,\n",
       "          2.16400000e+03,   2.45000000e+01],\n",
       "       [  5.10000000e+01,   9.00000000e+01,   7.00000000e+01,\n",
       "          1.93700000e+03,   2.90000000e+01],\n",
       "       [  5.20000000e+01,   9.10000000e+01,   5.30000000e+01,\n",
       "          1.79500000e+03,   3.30000000e+01],\n",
       "       [  5.30000000e+01,   2.25000000e+02,   1.00000000e+02,\n",
       "          3.65100000e+03,   2.00000000e+01],\n",
       "       [  5.40000000e+01,   2.50000000e+02,   7.80000000e+01,\n",
       "          3.57400000e+03,   1.80000000e+01],\n",
       "       [  5.50000000e+01,   2.50000000e+02,   1.10000000e+02,\n",
       "          3.64500000e+03,   1.85000000e+01],\n",
       "       [  5.60000000e+01,   2.58000000e+02,   9.50000000e+01,\n",
       "          3.19300000e+03,   1.75000000e+01],\n",
       "       [  5.70000000e+01,   9.70000000e+01,   7.10000000e+01,\n",
       "          1.82500000e+03,   2.95000000e+01],\n",
       "       [  5.80000000e+01,   8.50000000e+01,   7.00000000e+01,\n",
       "          1.99000000e+03,   3.20000000e+01],\n",
       "       [  5.90000000e+01,   9.70000000e+01,   7.50000000e+01,\n",
       "          2.15500000e+03,   2.80000000e+01],\n",
       "       [  6.00000000e+01,   1.40000000e+02,   7.20000000e+01,\n",
       "          2.56500000e+03,   2.65000000e+01],\n",
       "       [  6.10000000e+01,   1.30000000e+02,   1.02000000e+02,\n",
       "          3.15000000e+03,   2.00000000e+01],\n",
       "       [  6.20000000e+01,   3.18000000e+02,   1.50000000e+02,\n",
       "          3.94000000e+03,   1.30000000e+01],\n",
       "       [  6.30000000e+01,   1.20000000e+02,   8.80000000e+01,\n",
       "          3.27000000e+03,   1.90000000e+01],\n",
       "       [  6.40000000e+01,   1.56000000e+02,   1.08000000e+02,\n",
       "          2.93000000e+03,   1.90000000e+01],\n",
       "       [  6.50000000e+01,   1.68000000e+02,   1.20000000e+02,\n",
       "          3.82000000e+03,   1.65000000e+01],\n",
       "       [  6.60000000e+01,   3.50000000e+02,   1.80000000e+02,\n",
       "          4.38000000e+03,   1.65000000e+01],\n",
       "       [  6.70000000e+01,   3.50000000e+02,   1.45000000e+02,\n",
       "          4.05500000e+03,   1.30000000e+01],\n",
       "       [  6.80000000e+01,   3.02000000e+02,   1.30000000e+02,\n",
       "          3.87000000e+03,   1.30000000e+01],\n",
       "       [  6.90000000e+01,   3.18000000e+02,   1.50000000e+02,\n",
       "          3.75500000e+03,   1.30000000e+01],\n",
       "       [  7.00000000e+01,   1.12000000e+02,   8.80000000e+01,\n",
       "          2.60500000e+03,   2.80000000e+01],\n",
       "       [  7.10000000e+01,   1.12000000e+02,   8.80000000e+01,\n",
       "          2.64000000e+03,   2.70000000e+01],\n",
       "       [  7.20000000e+01,   1.12000000e+02,   8.80000000e+01,\n",
       "          2.39500000e+03,   3.40000000e+01],\n",
       "       [  7.30000000e+01,   1.12000000e+02,   8.50000000e+01,\n",
       "          2.57500000e+03,   3.10000000e+01],\n",
       "       [  7.40000000e+01,   1.35000000e+02,   8.40000000e+01,\n",
       "          2.52500000e+03,   2.90000000e+01],\n",
       "       [  7.50000000e+01,   1.51000000e+02,   9.00000000e+01,\n",
       "          2.73500000e+03,   2.70000000e+01],\n",
       "       [  7.60000000e+01,   1.40000000e+02,   9.20000000e+01,\n",
       "          2.86500000e+03,   2.40000000e+01],\n",
       "       [  7.70000000e+01,   1.51000000e+02,   9.10000000e+01,\n",
       "          3.03500000e+03,   2.30000000e+01],\n",
       "       [  7.80000000e+01,   1.05000000e+02,   7.40000000e+01,\n",
       "          1.98000000e+03,   3.60000000e+01],\n",
       "       [  7.90000000e+01,   9.10000000e+01,   6.80000000e+01,\n",
       "          2.02500000e+03,   3.70000000e+01],\n",
       "       [  8.00000000e+01,   9.10000000e+01,   6.80000000e+01,\n",
       "          1.97000000e+03,   3.10000000e+01],\n",
       "       [  8.10000000e+01,   1.05000000e+02,   6.30000000e+01,\n",
       "          2.12500000e+03,   3.80000000e+01],\n",
       "       [  8.20000000e+01,   9.80000000e+01,   7.00000000e+01,\n",
       "          2.12500000e+03,   3.60000000e+01],\n",
       "       [  8.30000000e+01,   1.20000000e+02,   8.80000000e+01,\n",
       "          2.16000000e+03,   3.60000000e+01],\n",
       "       [  8.40000000e+01,   1.07000000e+02,   7.50000000e+01,\n",
       "          2.20500000e+03,   3.60000000e+01],\n",
       "       [  8.50000000e+01,   1.08000000e+02,   7.00000000e+01,\n",
       "          2.24500000e+03,   3.40000000e+01],\n",
       "       [  8.60000000e+01,   9.10000000e+01,   6.70000000e+01,\n",
       "          1.96500000e+03,   3.80000000e+01],\n",
       "       [  8.70000000e+01,   9.10000000e+01,   6.70000000e+01,\n",
       "          1.96500000e+03,   3.20000000e+01],\n",
       "       [  8.80000000e+01,   9.10000000e+01,   6.70000000e+01,\n",
       "          1.99500000e+03,   3.80000000e+01],\n",
       "       [  8.90000000e+01,   1.81000000e+02,   1.10000000e+02,\n",
       "          2.94500000e+03,   2.50000000e+01],\n",
       "       [  9.00000000e+01,   2.62000000e+02,   8.50000000e+01,\n",
       "          3.01500000e+03,   3.80000000e+01],\n",
       "       [  9.10000000e+01,   1.56000000e+02,   9.20000000e+01,\n",
       "          2.58500000e+03,   2.60000000e+01],\n",
       "       [  9.20000000e+01,   2.32000000e+02,   1.12000000e+02,\n",
       "          2.83500000e+03,   2.20000000e+01],\n",
       "       [  9.30000000e+01,   1.44000000e+02,   9.60000000e+01,\n",
       "          2.66500000e+03,   3.20000000e+01],\n",
       "       [  9.40000000e+01,   1.35000000e+02,   8.40000000e+01,\n",
       "          2.37000000e+03,   3.60000000e+01],\n",
       "       [  9.50000000e+01,   1.51000000e+02,   9.00000000e+01,\n",
       "          2.95000000e+03,   2.70000000e+01],\n",
       "       [  9.60000000e+01,   1.40000000e+02,   8.60000000e+01,\n",
       "          2.79000000e+03,   2.70000000e+01],\n",
       "       [  9.70000000e+01,   9.70000000e+01,   5.20000000e+01,\n",
       "          2.13000000e+03,   4.40000000e+01],\n",
       "       [  9.80000000e+01,   1.35000000e+02,   8.40000000e+01,\n",
       "          2.29500000e+03,   3.20000000e+01],\n",
       "       [  9.90000000e+01,   1.20000000e+02,   7.90000000e+01,\n",
       "          2.62500000e+03,   2.80000000e+01],\n",
       "       [  1.00000000e+02,   1.19000000e+02,   8.20000000e+01,\n",
       "          2.72000000e+03,   3.10000000e+01]])"
      ]
     },
     "execution_count": 166,
     "metadata": {},
     "output_type": "execute_result"
    }
   ],
   "source": [
    "car = read_dataset(filePath=\"data/Reduced_Car_Data.csv\")\n",
    "car\n"
   ]
  },
  {
   "cell_type": "code",
   "execution_count": null,
   "metadata": {
    "collapsed": true
   },
   "outputs": [],
   "source": []
  }
 ],
 "metadata": {
  "anaconda-cloud": {},
  "kernelspec": {
   "display_name": "Python [conda root]",
   "language": "python",
   "name": "conda-root-py"
  },
  "language_info": {
   "codemirror_mode": {
    "name": "ipython",
    "version": 3
   },
   "file_extension": ".py",
   "mimetype": "text/x-python",
   "name": "python",
   "nbconvert_exporter": "python",
   "pygments_lexer": "ipython3",
   "version": "3.5.2"
  }
 },
 "nbformat": 4,
 "nbformat_minor": 1
}
